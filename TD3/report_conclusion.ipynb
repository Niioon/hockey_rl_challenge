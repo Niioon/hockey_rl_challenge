{
 "cells": [
  {
   "cell_type": "code",
   "execution_count": 55,
   "metadata": {},
   "outputs": [],
   "source": [
    "import matplotlib.pyplot as plt\n",
    "import numpy as np\n",
    "import pickle\n",
    "import seaborn as sns\n",
    "import pandas as pd\n",
    "import sys\n",
    "sys.path.append('.\\SAC')\n",
    "sys.path.append('.\\TD3')\n",
    "# print(sys.path)\n",
    "\n",
    "from SAC.eval_model import eval_agent as eval_sac\n",
    "from SAC.soft_actor_critic import SacAgent\n",
    "from td3.TD3 import TD3Agent\n",
    "from td3.eval_model import eval_agent as eval_td3\n",
    "\n",
    "import laserhockey.hockey_env as h_env"
   ]
  },
  {
   "cell_type": "code",
   "execution_count": 56,
   "metadata": {},
   "outputs": [
    {
     "name": "stdout",
     "output_type": "stream",
     "text": [
      "cpu\n",
      "cpu\n",
      "Loading models from SAC/checkpoints/tournament_agent\n",
      "Loading models from td3/checkpoints/td3_checkpoint_hockey_2x256_aR_tau=0.0025_normal_weak=False_e=25000_r=6.9719\n",
      "['Trained in mode defense with weak=False opponent for 15000 episodes, mean reward: 5.1314449919318585', 'Trained in mode normal with weak=True opponent for 25000 episodes, mean reward: 8.264968570386724', 'Trained in mode normal with weak=False opponent for 25000 episodes, mean reward: 6.0621432081315065']\n",
      "['Trained in mode defense with weak=False opponent for 25000 episodes, mean reward: 6.380768684684955', 'Trained in mode normal with weak=True opponent for 25000 episodes, mean reward: 8.885435391468839', 'Trained in mode normal with weak=False opponent for 25000 episodes, mean reward: 6.971863795743858']\n"
     ]
    }
   ],
   "source": [
    "env = h_env.HockeyEnv()\n",
    "ac_space = env.action_space\n",
    "o_space = env.observation_space\n",
    "\n",
    "agent_sac = SacAgent(env.observation_space, env.action_space, automatic_entropy_tuning=True)\n",
    "agent_td3 = TD3Agent(env.observation_space, env.action_space)\n",
    "\n",
    "path_sac = 'SAC/checkpoints/tournament_agent'\n",
    "path_td3 = 'td3/checkpoints/td3_checkpoint_hockey_2x256_aR_tau=0.0025_normal_weak=False_e=25000_r=6.9719'\n",
    "\n",
    "basic_weak_opponent = h_env.BasicOpponent(weak=True)\n",
    "basic_strong_opponent = h_env.BasicOpponent(weak=False)\n",
    "\n",
    "# load model parameters\n",
    "agent_sac.load_checkpoint(path_sac, load_buffer=False)\n",
    "agent_td3.load_checkpoint(path_td3, load_buffer=False)\n",
    "\n",
    "print(agent_sac.train_log)\n",
    "print(agent_td3.train_log)"
   ]
  },
  {
   "cell_type": "code",
   "execution_count": 57,
   "metadata": {},
   "outputs": [
    {
     "name": "stdout",
     "output_type": "stream",
     "text": [
      "Agent won 1083 games, lost 549 games, draw 368 games\n",
      "Win/Loss+Win Ratio 0.6636029411764706\n",
      "Average reward over 2000 episodes: -0.12114026864603283\n",
      "Agent won 1352 games, lost 468 games, draw 180 games\n",
      "Win/Loss+Win Ratio 0.7428571428571429\n",
      "Average reward over 2000 episodes: 2.217423269263859\n"
     ]
    }
   ],
   "source": [
    "eval_episodes = 2000\n",
    "# eval in defense mode\n",
    "env = h_env.HockeyEnv(mode=h_env.HockeyEnv.TRAIN_DEFENSE)\n",
    "winner_defense_sac = eval_sac(agent_sac, None, env, episodes=eval_episodes, render=False)\n",
    "winner_defense_td3 = eval_td3(agent_td3, None, env, episodes=eval_episodes, render=False)"
   ]
  },
  {
   "cell_type": "code",
   "execution_count": 58,
   "metadata": {},
   "outputs": [
    {
     "name": "stdout",
     "output_type": "stream",
     "text": [
      "Agent won 1097 games, lost 72 games, draw 831 games\n",
      "Win/Loss+Win Ratio 0.9384088964927289\n",
      "Average reward over 2000 episodes: -3.7883759658535165\n",
      "Agent won 1105 games, lost 74 games, draw 821 games\n",
      "Win/Loss+Win Ratio 0.9372349448685326\n",
      "Average reward over 2000 episodes: -4.338813232428658\n"
     ]
    }
   ],
   "source": [
    "# eval in shooting mode\n",
    "env = h_env.HockeyEnv(mode=h_env.HockeyEnv.TRAIN_SHOOTING)\n",
    "winner_shooting_sac = eval_sac(agent_sac, None, env, episodes=eval_episodes, render=False)\n",
    "winner_shooting_td3 = eval_td3(agent_td3, None, env, episodes=eval_episodes, render=False)"
   ]
  },
  {
   "cell_type": "code",
   "execution_count": 59,
   "metadata": {},
   "outputs": [
    {
     "name": "stdout",
     "output_type": "stream",
     "text": [
      "Agent won 1794 games, lost 153 games, draw 53 games\n",
      "Win/Loss+Win Ratio 0.9214175654853621\n",
      "Average reward over 2000 episodes: 7.556593855362187\n",
      "Agent won 1967 games, lost 16 games, draw 17 games\n",
      "Win/Loss+Win Ratio 0.9919314170448815\n",
      "Average reward over 2000 episodes: 9.350398453455774\n"
     ]
    }
   ],
   "source": [
    "# eval against weak opponent\n",
    "env = h_env.HockeyEnv()\n",
    "winner_weak_sac = eval_sac(agent_sac, basic_weak_opponent, env, episodes=eval_episodes, render=False)\n",
    "winner_weak_td3 = eval_td3(agent_td3, basic_weak_opponent, env, episodes=eval_episodes, render=False)"
   ]
  },
  {
   "cell_type": "code",
   "execution_count": 60,
   "metadata": {},
   "outputs": [
    {
     "name": "stdout",
     "output_type": "stream",
     "text": [
      "Agent won 1963 games, lost 29 games, draw 8 games\n",
      "Win/Loss+Win Ratio 0.9854417670682731\n",
      "Average reward over 2000 episodes: 9.230438798860854\n",
      "Agent won 1961 games, lost 35 games, draw 4 games\n",
      "Win/Loss+Win Ratio 0.9824649298597194\n",
      "Average reward over 2000 episodes: 9.187364376753\n"
     ]
    }
   ],
   "source": [
    "# eval against strong opponent\n",
    "env = h_env.HockeyEnv()\n",
    "winner_strong_sac = eval_sac(agent_sac, basic_strong_opponent, env, episodes=eval_episodes, render=False)\n",
    "winner_strong_td3 = eval_td3(agent_td3, basic_strong_opponent, env, episodes=eval_episodes, render=False)"
   ]
  },
  {
   "cell_type": "code",
   "execution_count": 61,
   "metadata": {},
   "outputs": [],
   "source": [
    "# adjusted function\n",
    "def compute_win_ratio_2(winners):\n",
    "    winners = np.asarray(winners)\n",
    "    win_ratio = winners[0] / (winners[0] + winners[1] + winners[2])\n",
    "    draw_ratio = winners[2] / (winners[0] + winners[1] + winners[2])\n",
    "    return win_ratio, draw_ratio"
   ]
  },
  {
   "cell_type": "code",
   "execution_count": 62,
   "metadata": {},
   "outputs": [],
   "source": [
    "ratio_defense_sac, d_defense_sac = compute_win_ratio_2(winner_defense_sac)\n",
    "ratio_defense_td3, d_defense_td3 = compute_win_ratio_2(winner_defense_td3)\n",
    "\n",
    "ratio_shooting_sac, d_shooting_sac = compute_win_ratio_2(winner_shooting_sac)\n",
    "ratio_shooting_td3, d_shooting_td3 = compute_win_ratio_2(winner_shooting_td3)\n",
    "\n",
    "ratio_weak_sac, d_weak_sac = compute_win_ratio_2(winner_weak_sac)\n",
    "ratio_weak_td3, d_weak_td3 = compute_win_ratio_2(winner_weak_td3)\n",
    "\n",
    "ratio_strong_sac, d_strong_sac = compute_win_ratio_2(winner_strong_sac)\n",
    "ratio_strong_td3, d_strong_td3 = compute_win_ratio_2(winner_strong_td3)"
   ]
  },
  {
   "cell_type": "code",
   "execution_count": 63,
   "metadata": {},
   "outputs": [
    {
     "data": {
      "text/html": [
       "<div>\n",
       "<style scoped>\n",
       "    .dataframe tbody tr th:only-of-type {\n",
       "        vertical-align: middle;\n",
       "    }\n",
       "\n",
       "    .dataframe tbody tr th {\n",
       "        vertical-align: top;\n",
       "    }\n",
       "\n",
       "    .dataframe thead th {\n",
       "        text-align: right;\n",
       "    }\n",
       "</style>\n",
       "<table border=\"1\" class=\"dataframe\">\n",
       "  <thead>\n",
       "    <tr style=\"text-align: right;\">\n",
       "      <th></th>\n",
       "      <th>mode</th>\n",
       "      <th>algorithm</th>\n",
       "      <th>win_ratio</th>\n",
       "      <th>draw_ratio</th>\n",
       "    </tr>\n",
       "  </thead>\n",
       "  <tbody>\n",
       "    <tr>\n",
       "      <th>0</th>\n",
       "      <td>defense</td>\n",
       "      <td>SAC</td>\n",
       "      <td>0.5415</td>\n",
       "      <td>0.1840</td>\n",
       "    </tr>\n",
       "    <tr>\n",
       "      <th>1</th>\n",
       "      <td>defense</td>\n",
       "      <td>TD3</td>\n",
       "      <td>0.6760</td>\n",
       "      <td>0.0900</td>\n",
       "    </tr>\n",
       "    <tr>\n",
       "      <th>2</th>\n",
       "      <td>shooting</td>\n",
       "      <td>SAC</td>\n",
       "      <td>0.5485</td>\n",
       "      <td>0.4155</td>\n",
       "    </tr>\n",
       "    <tr>\n",
       "      <th>3</th>\n",
       "      <td>shooting</td>\n",
       "      <td>TD3</td>\n",
       "      <td>0.5525</td>\n",
       "      <td>0.4105</td>\n",
       "    </tr>\n",
       "    <tr>\n",
       "      <th>4</th>\n",
       "      <td>weak</td>\n",
       "      <td>SAC</td>\n",
       "      <td>0.8970</td>\n",
       "      <td>0.0265</td>\n",
       "    </tr>\n",
       "    <tr>\n",
       "      <th>5</th>\n",
       "      <td>weak</td>\n",
       "      <td>TD3</td>\n",
       "      <td>0.9835</td>\n",
       "      <td>0.0085</td>\n",
       "    </tr>\n",
       "    <tr>\n",
       "      <th>6</th>\n",
       "      <td>strong</td>\n",
       "      <td>SAC</td>\n",
       "      <td>0.9815</td>\n",
       "      <td>0.0040</td>\n",
       "    </tr>\n",
       "    <tr>\n",
       "      <th>7</th>\n",
       "      <td>strong</td>\n",
       "      <td>TD3</td>\n",
       "      <td>0.9805</td>\n",
       "      <td>0.0020</td>\n",
       "    </tr>\n",
       "  </tbody>\n",
       "</table>\n",
       "</div>"
      ],
      "text/plain": [
       "       mode algorithm  win_ratio  draw_ratio\n",
       "0   defense       SAC     0.5415      0.1840\n",
       "1   defense       TD3     0.6760      0.0900\n",
       "2  shooting       SAC     0.5485      0.4155\n",
       "3  shooting       TD3     0.5525      0.4105\n",
       "4      weak       SAC     0.8970      0.0265\n",
       "5      weak       TD3     0.9835      0.0085\n",
       "6    strong       SAC     0.9815      0.0040\n",
       "7    strong       TD3     0.9805      0.0020"
      ]
     },
     "execution_count": 63,
     "metadata": {},
     "output_type": "execute_result"
    }
   ],
   "source": [
    "df_eval = pd.DataFrame(columns=['mode', 'algorithm','win_ratio', 'draw_ratio'])\n",
    "df_eval.loc[len(df_eval)] =  ['defense', 'SAC', ratio_defense_sac, d_defense_sac]\n",
    "df_eval.loc[len(df_eval)] =  ['defense', 'TD3', ratio_defense_td3, d_defense_td3]\n",
    "df_eval.loc[len(df_eval)] =  ['shooting', 'SAC', ratio_shooting_sac, d_shooting_sac]\n",
    "df_eval.loc[len(df_eval)] =  ['shooting', 'TD3', ratio_shooting_td3, d_shooting_td3]\n",
    "df_eval.loc[len(df_eval)] =  ['weak', 'SAC', ratio_weak_sac, d_weak_sac]\n",
    "df_eval.loc[len(df_eval)] =  ['weak', 'TD3', ratio_weak_td3, d_weak_td3]\n",
    "df_eval.loc[len(df_eval)] =  ['strong', 'SAC', ratio_strong_sac, d_strong_sac]\n",
    "df_eval.loc[len(df_eval)] =  ['strong', 'TD3', ratio_strong_td3, d_strong_td3]\n",
    "\n",
    "df_eval"
   ]
  },
  {
   "cell_type": "code",
   "execution_count": 64,
   "metadata": {},
   "outputs": [],
   "source": [
    "# make added column for stacked barplot\n",
    "df_eval['draw_ratio'] = df_eval['win_ratio'] + df_eval['draw_ratio']"
   ]
  },
  {
   "cell_type": "code",
   "execution_count": 65,
   "metadata": {},
   "outputs": [
    {
     "data": {
      "image/png": "[encoded data removed]",
      "text/plain": [
       "<Figure size 1000x500 with 1 Axes>"
      ]
     },
     "metadata": {},
     "output_type": "display_data"
    }
   ],
   "source": [
    "import matplotlib.patches as mpatches\n",
    "\n",
    "sns.set_theme(style=\"darkgrid\")\n",
    "sns.set(rc={'figure.figsize':(10, 5)})\n",
    "\n",
    "bar1 = sns.barplot(data=df_eval, x=\"mode\", y=\"draw_ratio\", hue=\"algorithm\", palette='pastel', saturation=0.2)\n",
    "bar2 = sns.barplot(data=df_eval, x=\"mode\", y=\"win_ratio\", hue=\"algorithm\")\n",
    "\n",
    "# add legend\n",
    "top_bar = mpatches.Patch(color='#4c72b0', label='SAC')\n",
    "bottom_bar = mpatches.Patch(color='#dd8452', label='TD3')\n",
    "plt.legend(handles=[top_bar, bottom_bar])\n",
    "fig = bar2.get_figure()\n",
    "fig.savefig('td3/plots/comparison_SAC_TD3_plot')\n",
    "plt.show()\n"
   ]
  },
  {
   "cell_type": "markdown",
   "metadata": {},
   "source": [
    "Performance against Basic Opponent"
   ]
  },
  {
   "cell_type": "code",
   "execution_count": 66,
   "metadata": {},
   "outputs": [
    {
     "ename": "FileNotFoundError",
     "evalue": "[Errno 2] No such file or directory: 'td3/stats/td3_checkpoint_hockey_tau=0.0025_normal_2x256_weak=True_e=25000_r=8.8854.pkl'",
     "output_type": "error",
     "traceback": [
      "\u001b[1;31m---------------------------------------------------------------------------\u001b[0m",
      "\u001b[1;31mFileNotFoundError\u001b[0m                         Traceback (most recent call last)",
      "Cell \u001b[1;32mIn[66], line 1\u001b[0m\n\u001b[1;32m----> 1\u001b[0m \u001b[39mwith\u001b[39;00m \u001b[39mopen\u001b[39;49m(\u001b[39m'\u001b[39;49m\u001b[39mtd3/stats/td3_checkpoint_hockey_tau=0.0025_normal_2x256_weak=True_e=25000_r=8.8854.pkl\u001b[39;49m\u001b[39m'\u001b[39;49m, \u001b[39m'\u001b[39;49m\u001b[39mrb\u001b[39;49m\u001b[39m'\u001b[39;49m) \u001b[39mas\u001b[39;00m f:\n\u001b[0;32m      2\u001b[0m     td3_dict_weak \u001b[39m=\u001b[39m pickle\u001b[39m.\u001b[39mload(f)\n\u001b[0;32m      3\u001b[0m \u001b[39mwith\u001b[39;00m \u001b[39mopen\u001b[39m(\u001b[39m'\u001b[39m\u001b[39mtd3/stats/td3_checkpoint_hockey_2x256_aR_tau=0.0025_normal_weak=False_e=25000_r=6.9719.pkl\u001b[39m\u001b[39m'\u001b[39m, \u001b[39m'\u001b[39m\u001b[39mrb\u001b[39m\u001b[39m'\u001b[39m) \u001b[39mas\u001b[39;00m f:\n",
      "File \u001b[1;32mc:\\Users\\WKL-Oschmann\\anaconda3\\envs\\hockey\\lib\\site-packages\\IPython\\core\\interactiveshell.py:284\u001b[0m, in \u001b[0;36m_modified_open\u001b[1;34m(file, *args, **kwargs)\u001b[0m\n\u001b[0;32m    277\u001b[0m \u001b[39mif\u001b[39;00m file \u001b[39min\u001b[39;00m {\u001b[39m0\u001b[39m, \u001b[39m1\u001b[39m, \u001b[39m2\u001b[39m}:\n\u001b[0;32m    278\u001b[0m     \u001b[39mraise\u001b[39;00m \u001b[39mValueError\u001b[39;00m(\n\u001b[0;32m    279\u001b[0m         \u001b[39mf\u001b[39m\u001b[39m\"\u001b[39m\u001b[39mIPython won\u001b[39m\u001b[39m'\u001b[39m\u001b[39mt let you open fd=\u001b[39m\u001b[39m{\u001b[39;00mfile\u001b[39m}\u001b[39;00m\u001b[39m by default \u001b[39m\u001b[39m\"\u001b[39m\n\u001b[0;32m    280\u001b[0m         \u001b[39m\"\u001b[39m\u001b[39mas it is likely to crash IPython. If you know what you are doing, \u001b[39m\u001b[39m\"\u001b[39m\n\u001b[0;32m    281\u001b[0m         \u001b[39m\"\u001b[39m\u001b[39myou can use builtins\u001b[39m\u001b[39m'\u001b[39m\u001b[39m open.\u001b[39m\u001b[39m\"\u001b[39m\n\u001b[0;32m    282\u001b[0m     )\n\u001b[1;32m--> 284\u001b[0m \u001b[39mreturn\u001b[39;00m io_open(file, \u001b[39m*\u001b[39;49margs, \u001b[39m*\u001b[39;49m\u001b[39m*\u001b[39;49mkwargs)\n",
      "\u001b[1;31mFileNotFoundError\u001b[0m: [Errno 2] No such file or directory: 'td3/stats/td3_checkpoint_hockey_tau=0.0025_normal_2x256_weak=True_e=25000_r=8.8854.pkl'"
     ]
    }
   ],
   "source": [
    "with open('td3/stats/td3_checkpoint_hockey_tau=0.0025_normal_2x256_weak=True_e=25000_r=8.8854.pkl', 'rb') as f:\n",
    "    td3_dict_weak = pickle.load(f)\n",
    "with open('td3/stats/td3_checkpoint_hockey_2x256_aR_tau=0.0025_normal_weak=False_e=25000_r=6.9719.pkl', 'rb') as f:\n",
    "    td3_dict_strong = pickle.load(f)"
   ]
  },
  {
   "cell_type": "code",
   "execution_count": null,
   "metadata": {},
   "outputs": [],
   "source": [
    "def compute_win_ratio(winners):\n",
    "    winners = np.asarray(winners)\n",
    "    win_ratio = winners[:, 0] / (winners[:, 0] + winners[:, 1] + winners[:, 2])\n",
    "    return win_ratio"
   ]
  },
  {
   "cell_type": "code",
   "execution_count": null,
   "metadata": {},
   "outputs": [],
   "source": [
    "winners_td3_strong = np.asarray(td3_dict_strong['winners'])\n",
    "winners_td3_weak = np.asarray(td3_dict_weak['winners'])\n",
    "\n",
    "win_ratio_td3_strong = compute_win_ratio(winners_td3_strong)\n",
    "win_ratio_td3_weak = compute_win_ratio(winners_td3_weak)"
   ]
  },
  {
   "cell_type": "code",
   "execution_count": null,
   "metadata": {},
   "outputs": [],
   "source": [
    "# append stats of weak and strong opponent\n",
    "win_ratio_td3 = np.append(win_ratio_td3_weak, win_ratio_td3_strong)"
   ]
  },
  {
   "cell_type": "code",
   "execution_count": null,
   "metadata": {},
   "outputs": [],
   "source": [
    "winner_df = pd.DataFrame({'TD3': win_ratio_td3})\n",
    "winner_df = winner_df.reset_index()\n",
    "winner_df = winner_df.rename(columns={'index': 'episodes'})\n",
    "winner_df['episodes'] = winner_df['episodes'] * 500\n",
    "winner_df = winner_df.melt(id_vars=['episodes'], var_name='algorithm', value_name='win_ratio')\n",
    "winner_df.head()\n",
    "winner_df.to_csv('td3_winner_df')"
   ]
  },
  {
   "cell_type": "code",
   "execution_count": null,
   "metadata": {},
   "outputs": [
    {
     "data": {
      "image/png": "[encoded data removed]",
      "text/plain": [
       "<Figure size 1000x500 with 1 Axes>"
      ]
     },
     "metadata": {},
     "output_type": "display_data"
    }
   ],
   "source": [
    "sns.set_theme(style=\"darkgrid\")\n",
    "sns.set(rc={'figure.figsize':(10, 5)})\n",
    " \n",
    "ax = sns.lineplot(x='episodes', y='win_ratio', hue='algorithm', data=winner_df)\n",
    "# ax.set_xticks([0, 25000], labels=['Weak Opponent', 'Strong Opponent'])\n",
    "ax.vlines(25000, 0, 1, 'g', linestyles='dashed')\n",
    "font = {'family': 'serif',\n",
    "        'color':  'green',\n",
    "        'weight': 'normal',\n",
    "        'size': 12,\n",
    "        }\n",
    "\n",
    "ax.text(28000, 0.18, 'Strong Opponent', fontdict=font)\n",
    "ax.text(12500, 0.18, 'Weak Opponent', fontdict=font)\n",
    "\n",
    "fig = ax.get_figure()\n",
    "\n",
    "fig.savefig('td3/plots/basic_opponent_plot')"
   ]
  }
 ],
 "metadata": {
  "kernelspec": {
   "display_name": "hockey",
   "language": "python",
   "name": "hockey"
  },
  "language_info": {
   "codemirror_mode": {
    "name": "ipython",
    "version": 3
   },
   "file_extension": ".py",
   "mimetype": "text/x-python",
   "name": "python",
   "nbconvert_exporter": "python",
   "pygments_lexer": "ipython3",
   "version": "3.8.16"
  },
  "orig_nbformat": 4
 },
 "nbformat": 4,
 "nbformat_minor": 2
}
